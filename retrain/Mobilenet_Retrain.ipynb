{
  "cells": [
    {
      "cell_type": "code",
      "execution_count": null,
      "metadata": {
        "id": "D13-w3_KxLNR"
      },
      "outputs": [],
      "source": [
        "import tensorflow as tf\n"
      ]
    },
    {
      "cell_type": "code",
      "source": [
        "from google.colab import drive\n",
        "drive.mount('/content/drive')  # ✅ correct\n"
      ],
      "metadata": {
        "colab": {
          "base_uri": "https://localhost:8080/"
        },
        "id": "22mtZt8Y7kng",
        "outputId": "555357a9-db11-4c38-f6c6-70902dd90352"
      },
      "execution_count": 3,
      "outputs": [
        {
          "output_type": "stream",
          "name": "stdout",
          "text": [
            "Mounted at /content/drive\n"
          ]
        }
      ]
    },
    {
      "cell_type": "code",
      "source": [
        "!cp -r /content/drive/MyDrive/Project_Dataset/cropped /content/\n"
      ],
      "metadata": {
        "id": "nHu83HDu8EbT"
      },
      "execution_count": null,
      "outputs": []
    },
    {
      "cell_type": "code",
      "execution_count": null,
      "metadata": {
        "id": "kTp0sBadxrpN"
      },
      "outputs": [],
      "source": [
        "data_dir = \"/content/cropped\""
      ]
    },
    {
      "cell_type": "code",
      "execution_count": null,
      "metadata": {
        "id": "5qCX7qllxy07"
      },
      "outputs": [],
      "source": [
        "import tensorflow as tf\n",
        "from tensorflow.keras import layers, models\n",
        "from tensorflow.keras.applications.mobilenet_v2 import MobileNetV2, preprocess_input\n",
        "import os"
      ]
    },
    {
      "cell_type": "code",
      "execution_count": null,
      "metadata": {
        "id": "_OAdcmmJyNaU"
      },
      "outputs": [],
      "source": [
        "DATA_DIR = '/content/dataset'   # Your dataset root directory\n",
        "IMG_SIZE = 224\n",
        "BATCH_SIZE = 128\n",
        "EPOCHS_INITIAL = 30\n",
        "EPOCHS_FINE_TUNE = 10"
      ]
    },
    {
      "cell_type": "code",
      "execution_count": null,
      "metadata": {
        "colab": {
          "base_uri": "https://localhost:8080/"
        },
        "id": "0ng-UEP1yWGk",
        "outputId": "b5c732c2-d08e-4f75-e266-a21b04f584ac"
      },
      "outputs": [
        {
          "name": "stdout",
          "output_type": "stream",
          "text": [
            "Found 26237 files belonging to 299 classes.\n",
            "Using 20990 files for training.\n"
          ]
        }
      ],
      "source": [
        " #1. Load dataset with 80-20 train-validation split\n",
        "train_ds = tf.keras.utils.image_dataset_from_directory(\n",
        "    DATA_DIR,\n",
        "    validation_split=0.2,\n",
        "    subset=\"training\",\n",
        "    seed=123,\n",
        "    image_size=(IMG_SIZE, IMG_SIZE),\n",
        "    batch_size=BATCH_SIZE,\n",
        "    label_mode='categorical'\n",
        ")"
      ]
    },
    {
      "cell_type": "code",
      "execution_count": null,
      "metadata": {
        "id": "z3wB7pK7ycl1"
      },
      "outputs": [],
      "source": [
        "# Save class names immediately\n",
        "class_names = train_ds.class_names\n"
      ]
    },
    {
      "cell_type": "code",
      "execution_count": null,
      "metadata": {
        "colab": {
          "base_uri": "https://localhost:8080/"
        },
        "id": "dwAt7y91ylC4",
        "outputId": "725bf352-aa87-42c2-917b-d3db0271956a"
      },
      "outputs": [
        {
          "data": {
            "text/plain": [
              "['n000002',\n",
              " 'n000003',\n",
              " 'n000004',\n",
              " 'n000005',\n",
              " 'n000006',\n",
              " 'n000007',\n",
              " 'n000008',\n",
              " 'n000010',\n",
              " 'n000011',\n",
              " 'n000012',\n",
              " 'n000013',\n",
              " 'n000014',\n",
              " 'n000015',\n",
              " 'n000016',\n",
              " 'n000017',\n",
              " 'n000018',\n",
              " 'n000019',\n",
              " 'n000020',\n",
              " 'n000021',\n",
              " 'n000022',\n",
              " 'n000023',\n",
              " 'n000024',\n",
              " 'n000025',\n",
              " 'n000026',\n",
              " 'n000027',\n",
              " 'n000028',\n",
              " 'n000030',\n",
              " 'n000031',\n",
              " 'n000032',\n",
              " 'n000033',\n",
              " 'n000034',\n",
              " 'n000035',\n",
              " 'n000036',\n",
              " 'n000037',\n",
              " 'n000038',\n",
              " 'n000039',\n",
              " 'n000041',\n",
              " 'n000042',\n",
              " 'n000043',\n",
              " 'n000044',\n",
              " 'n000045',\n",
              " 'n000046',\n",
              " 'n000047',\n",
              " 'n000048',\n",
              " 'n000049',\n",
              " 'n000050',\n",
              " 'n000051',\n",
              " 'n000052',\n",
              " 'n000053',\n",
              " 'n000054',\n",
              " 'n000055',\n",
              " 'n000056',\n",
              " 'n000057',\n",
              " 'n000058',\n",
              " 'n000059',\n",
              " 'n000060',\n",
              " 'n000061',\n",
              " 'n000062',\n",
              " 'n000063',\n",
              " 'n000064',\n",
              " 'n000065',\n",
              " 'n000066',\n",
              " 'n000067',\n",
              " 'n000068',\n",
              " 'n000069',\n",
              " 'n000070',\n",
              " 'n000071',\n",
              " 'n000072',\n",
              " 'n000073',\n",
              " 'n000074',\n",
              " 'n000075',\n",
              " 'n000076',\n",
              " 'n000077',\n",
              " 'n000079',\n",
              " 'n000080',\n",
              " 'n000081',\n",
              " 'n000083',\n",
              " 'n000084',\n",
              " 'n000085',\n",
              " 'n000086',\n",
              " 'n000087',\n",
              " 'n000088',\n",
              " 'n000089',\n",
              " 'n000090',\n",
              " 'n000091',\n",
              " 'n000092',\n",
              " 'n000093',\n",
              " 'n000094',\n",
              " 'n000095',\n",
              " 'n000096',\n",
              " 'n000097',\n",
              " 'n000098',\n",
              " 'n000099',\n",
              " 'n000100',\n",
              " 'n000101',\n",
              " 'n000102',\n",
              " 'n000103',\n",
              " 'n000104',\n",
              " 'n000105',\n",
              " 'n000107',\n",
              " 'n000108',\n",
              " 'n000109',\n",
              " 'n000110',\n",
              " 'n000111',\n",
              " 'n000112',\n",
              " 'n000113',\n",
              " 'n000114',\n",
              " 'n000115',\n",
              " 'n000116',\n",
              " 'n000117',\n",
              " 'n000118',\n",
              " 'n000119',\n",
              " 'n000120',\n",
              " 'n000121',\n",
              " 'n000122',\n",
              " 'n000123',\n",
              " 'n000124',\n",
              " 'n000125',\n",
              " 'n000126',\n",
              " 'n000127',\n",
              " 'n000128',\n",
              " 'n000130',\n",
              " 'n000131',\n",
              " 'n000132',\n",
              " 'n000133',\n",
              " 'n000134',\n",
              " 'n000135',\n",
              " 'n000136',\n",
              " 'n000137',\n",
              " 'n000138',\n",
              " 'n000139',\n",
              " 'n000140',\n",
              " 'n000141',\n",
              " 'n000142',\n",
              " 'n000143',\n",
              " 'n000144',\n",
              " 'n000145',\n",
              " 'n000146',\n",
              " 'n000150',\n",
              " 'n000151',\n",
              " 'n000152',\n",
              " 'n000154',\n",
              " 'n000155',\n",
              " 'n000156',\n",
              " 'n000157',\n",
              " 'n000158',\n",
              " 'n000159',\n",
              " 'n000160',\n",
              " 'n000161',\n",
              " 'n000162',\n",
              " 'n000163',\n",
              " 'n000164',\n",
              " 'n000165',\n",
              " 'n000166',\n",
              " 'n000167',\n",
              " 'n000168',\n",
              " 'n000169',\n",
              " 'n000170',\n",
              " 'n000171',\n",
              " 'n000172',\n",
              " 'n000251',\n",
              " 'n000252',\n",
              " 'n000253',\n",
              " 'n000254',\n",
              " 'n000255',\n",
              " 'n000256',\n",
              " 'n000257',\n",
              " 'n000258',\n",
              " 'n000260',\n",
              " 'n000261',\n",
              " 'n000262',\n",
              " 'n000263',\n",
              " 'n000264',\n",
              " 'n000265',\n",
              " 'n000266',\n",
              " 'n000267',\n",
              " 'n000268',\n",
              " 'n000269',\n",
              " 'n000270',\n",
              " 'n000271',\n",
              " 'n000272',\n",
              " 'n000273',\n",
              " 'n000274',\n",
              " 'n000275',\n",
              " 'n000276',\n",
              " 'n000277',\n",
              " 'n000278',\n",
              " 'n000279',\n",
              " 'n000280',\n",
              " 'n000281',\n",
              " 'n000282',\n",
              " 'n000283',\n",
              " 'n000285',\n",
              " 'n000286',\n",
              " 'n000287',\n",
              " 'n000288',\n",
              " 'n000289',\n",
              " 'n000290',\n",
              " 'n000291',\n",
              " 'n000292',\n",
              " 'n000293',\n",
              " 'n000294',\n",
              " 'n000295',\n",
              " 'n000296',\n",
              " 'n000297',\n",
              " 'n000298',\n",
              " 'n000299',\n",
              " 'n000300',\n",
              " 'n000301',\n",
              " 'n000302',\n",
              " 'n000303',\n",
              " 'n000304',\n",
              " 'n000305',\n",
              " 'n000306',\n",
              " 'n000307',\n",
              " 'n000308',\n",
              " 'n000309',\n",
              " 'n000310',\n",
              " 'n000311',\n",
              " 'n000312',\n",
              " 'n000313',\n",
              " 'n000314',\n",
              " 'n000315',\n",
              " 'n000316',\n",
              " 'n000317',\n",
              " 'n000318',\n",
              " 'n000319',\n",
              " 'n000320',\n",
              " 'n000321',\n",
              " 'n000322',\n",
              " 'n000323',\n",
              " 'n000324',\n",
              " 'n000325',\n",
              " 'n000326',\n",
              " 'n000327',\n",
              " 'n000328',\n",
              " 'n000329',\n",
              " 'n000330',\n",
              " 'n000331',\n",
              " 'n000332',\n",
              " 'n000333',\n",
              " 'n000334',\n",
              " 'n000335',\n",
              " 'n000336',\n",
              " 'n000337',\n",
              " 'n000338',\n",
              " 'n000339',\n",
              " 'n000340',\n",
              " 'n000341',\n",
              " 'n000342',\n",
              " 'n000343',\n",
              " 'n000344',\n",
              " 'n000345',\n",
              " 'n000346',\n",
              " 'n000347',\n",
              " 'n000348',\n",
              " 'n000349',\n",
              " 'n000350',\n",
              " 'n000351',\n",
              " 'n000352',\n",
              " 'n000353',\n",
              " 'n000354',\n",
              " 'n000355',\n",
              " 'n000356',\n",
              " 'n000357',\n",
              " 'n000358',\n",
              " 'n000359',\n",
              " 'n000360',\n",
              " 'n000361',\n",
              " 'n000362',\n",
              " 'n000364',\n",
              " 'n000365',\n",
              " 'n000366',\n",
              " 'n000367',\n",
              " 'n000368',\n",
              " 'n000369',\n",
              " 'n000370',\n",
              " 'n000371',\n",
              " 'n000372',\n",
              " 'n000373',\n",
              " 'n000374',\n",
              " 'n000375',\n",
              " 'n000376',\n",
              " 'n000377',\n",
              " 'n000378',\n",
              " 'n000379',\n",
              " 'n000380',\n",
              " 'n000381',\n",
              " 'n000382',\n",
              " 'n000383',\n",
              " 'n000384',\n",
              " 'n000385',\n",
              " 'n000386',\n",
              " 'n000387',\n",
              " 'n000388',\n",
              " 'n000389',\n",
              " 'n000390',\n",
              " 'n000391',\n",
              " 'n000392']"
            ]
          },
          "execution_count": 6,
          "metadata": {},
          "output_type": "execute_result"
        }
      ],
      "source": [
        "class_names"
      ]
    },
    {
      "cell_type": "code",
      "execution_count": null,
      "metadata": {
        "id": "lJVsIq6jy2B0"
      },
      "outputs": [],
      "source": [
        "def preprocess(image, label):\n",
        "    image = preprocess_input(image)\n",
        "    return image, label\n"
      ]
    },
    {
      "cell_type": "code",
      "execution_count": null,
      "metadata": {
        "id": "UEe7nBzF0GzL"
      },
      "outputs": [],
      "source": [
        "# ✅ Then apply preprocessing and prefetch\n",
        "train_ds = train_ds.map(preprocess).prefetch(buffer_size=tf.data.AUTOTUNE)"
      ]
    },
    {
      "cell_type": "code",
      "execution_count": null,
      "metadata": {
        "colab": {
          "base_uri": "https://localhost:8080/"
        },
        "id": "01nweqpu0LaS",
        "outputId": "509b056d-5b26-4d81-e328-5339c328fcdc"
      },
      "outputs": [
        {
          "name": "stdout",
          "output_type": "stream",
          "text": [
            "Classes: ['n000002', 'n000003', 'n000004', 'n000005', 'n000006', 'n000007', 'n000008', 'n000010', 'n000011', 'n000012', 'n000013', 'n000014', 'n000015', 'n000016', 'n000017', 'n000018', 'n000019', 'n000020', 'n000021', 'n000022', 'n000023', 'n000024', 'n000025', 'n000026', 'n000027', 'n000028', 'n000030', 'n000031', 'n000032', 'n000033', 'n000034', 'n000035', 'n000036', 'n000037', 'n000038', 'n000039', 'n000041', 'n000042', 'n000043', 'n000044', 'n000045', 'n000046', 'n000047', 'n000048', 'n000049', 'n000050', 'n000051', 'n000052', 'n000053', 'n000054', 'n000055', 'n000056', 'n000057', 'n000058', 'n000059', 'n000060', 'n000061', 'n000062', 'n000063', 'n000064', 'n000065', 'n000066', 'n000067', 'n000068', 'n000069', 'n000070', 'n000071', 'n000072', 'n000073', 'n000074', 'n000075', 'n000076', 'n000077', 'n000079', 'n000080', 'n000081', 'n000083', 'n000084', 'n000085', 'n000086', 'n000087', 'n000088', 'n000089', 'n000090', 'n000091', 'n000092', 'n000093', 'n000094', 'n000095', 'n000096', 'n000097', 'n000098', 'n000099', 'n000100', 'n000101', 'n000102', 'n000103', 'n000104', 'n000105', 'n000107', 'n000108', 'n000109', 'n000110', 'n000111', 'n000112', 'n000113', 'n000114', 'n000115', 'n000116', 'n000117', 'n000118', 'n000119', 'n000120', 'n000121', 'n000122', 'n000123', 'n000124', 'n000125', 'n000126', 'n000127', 'n000128', 'n000130', 'n000131', 'n000132', 'n000133', 'n000134', 'n000135', 'n000136', 'n000137', 'n000138', 'n000139', 'n000140', 'n000141', 'n000142', 'n000143', 'n000144', 'n000145', 'n000146', 'n000150', 'n000151', 'n000152', 'n000154', 'n000155', 'n000156', 'n000157', 'n000158', 'n000159', 'n000160', 'n000161', 'n000162', 'n000163', 'n000164', 'n000165', 'n000166', 'n000167', 'n000168', 'n000169', 'n000170', 'n000171', 'n000172', 'n000251', 'n000252', 'n000253', 'n000254', 'n000255', 'n000256', 'n000257', 'n000258', 'n000260', 'n000261', 'n000262', 'n000263', 'n000264', 'n000265', 'n000266', 'n000267', 'n000268', 'n000269', 'n000270', 'n000271', 'n000272', 'n000273', 'n000274', 'n000275', 'n000276', 'n000277', 'n000278', 'n000279', 'n000280', 'n000281', 'n000282', 'n000283', 'n000285', 'n000286', 'n000287', 'n000288', 'n000289', 'n000290', 'n000291', 'n000292', 'n000293', 'n000294', 'n000295', 'n000296', 'n000297', 'n000298', 'n000299', 'n000300', 'n000301', 'n000302', 'n000303', 'n000304', 'n000305', 'n000306', 'n000307', 'n000308', 'n000309', 'n000310', 'n000311', 'n000312', 'n000313', 'n000314', 'n000315', 'n000316', 'n000317', 'n000318', 'n000319', 'n000320', 'n000321', 'n000322', 'n000323', 'n000324', 'n000325', 'n000326', 'n000327', 'n000328', 'n000329', 'n000330', 'n000331', 'n000332', 'n000333', 'n000334', 'n000335', 'n000336', 'n000337', 'n000338', 'n000339', 'n000340', 'n000341', 'n000342', 'n000343', 'n000344', 'n000345', 'n000346', 'n000347', 'n000348', 'n000349', 'n000350', 'n000351', 'n000352', 'n000353', 'n000354', 'n000355', 'n000356', 'n000357', 'n000358', 'n000359', 'n000360', 'n000361', 'n000362', 'n000364', 'n000365', 'n000366', 'n000367', 'n000368', 'n000369', 'n000370', 'n000371', 'n000372', 'n000373', 'n000374', 'n000375', 'n000376', 'n000377', 'n000378', 'n000379', 'n000380', 'n000381', 'n000382', 'n000383', 'n000384', 'n000385', 'n000386', 'n000387', 'n000388', 'n000389', 'n000390', 'n000391', 'n000392']\n",
            "299\n"
          ]
        }
      ],
      "source": [
        "# Now you can use class_names anywhere in your code\n",
        "print(\"Classes:\", class_names)\n",
        "num_classes = len(class_names)\n",
        "print(num_classes)"
      ]
    },
    {
      "cell_type": "code",
      "execution_count": null,
      "metadata": {
        "id": "qwN99DZg0Nxp"
      },
      "outputs": [],
      "source": [
        "# 3. Load MobileNetV2 base model without top layers\n",
        "base_model = MobileNetV2(input_shape=(IMG_SIZE, IMG_SIZE, 3),\n",
        "                         include_top=False,\n",
        "                         weights='imagenet',\n",
        "                         pooling='avg')\n",
        "base_model.trainable = False  # Freeze base model initially\n"
      ]
    },
    {
      "cell_type": "code",
      "execution_count": null,
      "metadata": {
        "id": "NsEcYTKG0Tk0"
      },
      "outputs": [],
      "source": [
        "num_classes = len(class_names)\n",
        "model = models.Sequential([\n",
        "    base_model,\n",
        "    layers.Dense(num_classes, activation='softmax')\n",
        "])"
      ]
    },
    {
      "cell_type": "code",
      "execution_count": null,
      "metadata": {
        "id": "3kBFZ_V10ZpK"
      },
      "outputs": [],
      "source": [
        "model.compile(optimizer=tf.keras.optimizers.Adam(learning_rate=0.001),\n",
        "              loss='categorical_crossentropy',\n",
        "              metrics=['accuracy'])"
      ]
    },
    {
      "cell_type": "code",
      "execution_count": null,
      "metadata": {
        "colab": {
          "base_uri": "https://localhost:8080/",
          "height": 408
        },
        "id": "KKNm7Ax_0cLs",
        "outputId": "bddddf57-f641-444f-8564-6d8b8027f5f7"
      },
      "outputs": [
        {
          "name": "stdout",
          "output_type": "stream",
          "text": [
            "Starting initial training...\n",
            "Epoch 1/30\n",
            "\u001b[1m 13/164\u001b[0m \u001b[32m━\u001b[0m\u001b[37m━━━━━━━━━━━━━━━━━━━\u001b[0m \u001b[1m27:24\u001b[0m 11s/step - accuracy: 0.1604 - loss: 4.5040"
          ]
        },
        {
          "ename": "KeyboardInterrupt",
          "evalue": "",
          "output_type": "error",
          "traceback": [
            "\u001b[0;31m---------------------------------------------------------------------------\u001b[0m",
            "\u001b[0;31mKeyboardInterrupt\u001b[0m                         Traceback (most recent call last)",
            "\u001b[0;32m<ipython-input-23-a66b38e97996>\u001b[0m in \u001b[0;36m<cell line: 0>\u001b[0;34m()\u001b[0m\n\u001b[1;32m      1\u001b[0m \u001b[0;31m# 6. Initial training (feature extraction)\u001b[0m\u001b[0;34m\u001b[0m\u001b[0;34m\u001b[0m\u001b[0m\n\u001b[1;32m      2\u001b[0m \u001b[0mprint\u001b[0m\u001b[0;34m(\u001b[0m\u001b[0;34m\"Starting initial training...\"\u001b[0m\u001b[0;34m)\u001b[0m\u001b[0;34m\u001b[0m\u001b[0;34m\u001b[0m\u001b[0m\n\u001b[0;32m----> 3\u001b[0;31m model.fit(train_ds,\n\u001b[0m\u001b[1;32m      4\u001b[0m           epochs=EPOCHS_INITIAL)\n",
            "\u001b[0;32m/usr/local/lib/python3.11/dist-packages/keras/src/utils/traceback_utils.py\u001b[0m in \u001b[0;36merror_handler\u001b[0;34m(*args, **kwargs)\u001b[0m\n\u001b[1;32m    115\u001b[0m         \u001b[0mfiltered_tb\u001b[0m \u001b[0;34m=\u001b[0m \u001b[0;32mNone\u001b[0m\u001b[0;34m\u001b[0m\u001b[0;34m\u001b[0m\u001b[0m\n\u001b[1;32m    116\u001b[0m         \u001b[0;32mtry\u001b[0m\u001b[0;34m:\u001b[0m\u001b[0;34m\u001b[0m\u001b[0;34m\u001b[0m\u001b[0m\n\u001b[0;32m--> 117\u001b[0;31m             \u001b[0;32mreturn\u001b[0m \u001b[0mfn\u001b[0m\u001b[0;34m(\u001b[0m\u001b[0;34m*\u001b[0m\u001b[0margs\u001b[0m\u001b[0;34m,\u001b[0m \u001b[0;34m**\u001b[0m\u001b[0mkwargs\u001b[0m\u001b[0;34m)\u001b[0m\u001b[0;34m\u001b[0m\u001b[0;34m\u001b[0m\u001b[0m\n\u001b[0m\u001b[1;32m    118\u001b[0m         \u001b[0;32mexcept\u001b[0m \u001b[0mException\u001b[0m \u001b[0;32mas\u001b[0m \u001b[0me\u001b[0m\u001b[0;34m:\u001b[0m\u001b[0;34m\u001b[0m\u001b[0;34m\u001b[0m\u001b[0m\n\u001b[1;32m    119\u001b[0m             \u001b[0mfiltered_tb\u001b[0m \u001b[0;34m=\u001b[0m \u001b[0m_process_traceback_frames\u001b[0m\u001b[0;34m(\u001b[0m\u001b[0me\u001b[0m\u001b[0;34m.\u001b[0m\u001b[0m__traceback__\u001b[0m\u001b[0;34m)\u001b[0m\u001b[0;34m\u001b[0m\u001b[0;34m\u001b[0m\u001b[0m\n",
            "\u001b[0;32m/usr/local/lib/python3.11/dist-packages/keras/src/backend/tensorflow/trainer.py\u001b[0m in \u001b[0;36mfit\u001b[0;34m(self, x, y, batch_size, epochs, verbose, callbacks, validation_split, validation_data, shuffle, class_weight, sample_weight, initial_epoch, steps_per_epoch, validation_steps, validation_batch_size, validation_freq)\u001b[0m\n\u001b[1;32m    369\u001b[0m                 \u001b[0;32mfor\u001b[0m \u001b[0mstep\u001b[0m\u001b[0;34m,\u001b[0m \u001b[0miterator\u001b[0m \u001b[0;32min\u001b[0m \u001b[0mepoch_iterator\u001b[0m\u001b[0;34m:\u001b[0m\u001b[0;34m\u001b[0m\u001b[0;34m\u001b[0m\u001b[0m\n\u001b[1;32m    370\u001b[0m                     \u001b[0mcallbacks\u001b[0m\u001b[0;34m.\u001b[0m\u001b[0mon_train_batch_begin\u001b[0m\u001b[0;34m(\u001b[0m\u001b[0mstep\u001b[0m\u001b[0;34m)\u001b[0m\u001b[0;34m\u001b[0m\u001b[0;34m\u001b[0m\u001b[0m\n\u001b[0;32m--> 371\u001b[0;31m                     \u001b[0mlogs\u001b[0m \u001b[0;34m=\u001b[0m \u001b[0mself\u001b[0m\u001b[0;34m.\u001b[0m\u001b[0mtrain_function\u001b[0m\u001b[0;34m(\u001b[0m\u001b[0miterator\u001b[0m\u001b[0;34m)\u001b[0m\u001b[0;34m\u001b[0m\u001b[0;34m\u001b[0m\u001b[0m\n\u001b[0m\u001b[1;32m    372\u001b[0m                     \u001b[0mcallbacks\u001b[0m\u001b[0;34m.\u001b[0m\u001b[0mon_train_batch_end\u001b[0m\u001b[0;34m(\u001b[0m\u001b[0mstep\u001b[0m\u001b[0;34m,\u001b[0m \u001b[0mlogs\u001b[0m\u001b[0;34m)\u001b[0m\u001b[0;34m\u001b[0m\u001b[0;34m\u001b[0m\u001b[0m\n\u001b[1;32m    373\u001b[0m                     \u001b[0;32mif\u001b[0m \u001b[0mself\u001b[0m\u001b[0;34m.\u001b[0m\u001b[0mstop_training\u001b[0m\u001b[0;34m:\u001b[0m\u001b[0;34m\u001b[0m\u001b[0;34m\u001b[0m\u001b[0m\n",
            "\u001b[0;32m/usr/local/lib/python3.11/dist-packages/keras/src/backend/tensorflow/trainer.py\u001b[0m in \u001b[0;36mfunction\u001b[0;34m(iterator)\u001b[0m\n\u001b[1;32m    217\u001b[0m                 \u001b[0miterator\u001b[0m\u001b[0;34m,\u001b[0m \u001b[0;34m(\u001b[0m\u001b[0mtf\u001b[0m\u001b[0;34m.\u001b[0m\u001b[0mdata\u001b[0m\u001b[0;34m.\u001b[0m\u001b[0mIterator\u001b[0m\u001b[0;34m,\u001b[0m \u001b[0mtf\u001b[0m\u001b[0;34m.\u001b[0m\u001b[0mdistribute\u001b[0m\u001b[0;34m.\u001b[0m\u001b[0mDistributedIterator\u001b[0m\u001b[0;34m)\u001b[0m\u001b[0;34m\u001b[0m\u001b[0;34m\u001b[0m\u001b[0m\n\u001b[1;32m    218\u001b[0m             ):\n\u001b[0;32m--> 219\u001b[0;31m                 \u001b[0mopt_outputs\u001b[0m \u001b[0;34m=\u001b[0m \u001b[0mmulti_step_on_iterator\u001b[0m\u001b[0;34m(\u001b[0m\u001b[0miterator\u001b[0m\u001b[0;34m)\u001b[0m\u001b[0;34m\u001b[0m\u001b[0;34m\u001b[0m\u001b[0m\n\u001b[0m\u001b[1;32m    220\u001b[0m                 \u001b[0;32mif\u001b[0m \u001b[0;32mnot\u001b[0m \u001b[0mopt_outputs\u001b[0m\u001b[0;34m.\u001b[0m\u001b[0mhas_value\u001b[0m\u001b[0;34m(\u001b[0m\u001b[0;34m)\u001b[0m\u001b[0;34m:\u001b[0m\u001b[0;34m\u001b[0m\u001b[0;34m\u001b[0m\u001b[0m\n\u001b[1;32m    221\u001b[0m                     \u001b[0;32mraise\u001b[0m \u001b[0mStopIteration\u001b[0m\u001b[0;34m\u001b[0m\u001b[0;34m\u001b[0m\u001b[0m\n",
            "\u001b[0;32m/usr/local/lib/python3.11/dist-packages/tensorflow/python/util/traceback_utils.py\u001b[0m in \u001b[0;36merror_handler\u001b[0;34m(*args, **kwargs)\u001b[0m\n\u001b[1;32m    148\u001b[0m     \u001b[0mfiltered_tb\u001b[0m \u001b[0;34m=\u001b[0m \u001b[0;32mNone\u001b[0m\u001b[0;34m\u001b[0m\u001b[0;34m\u001b[0m\u001b[0m\n\u001b[1;32m    149\u001b[0m     \u001b[0;32mtry\u001b[0m\u001b[0;34m:\u001b[0m\u001b[0;34m\u001b[0m\u001b[0;34m\u001b[0m\u001b[0m\n\u001b[0;32m--> 150\u001b[0;31m       \u001b[0;32mreturn\u001b[0m \u001b[0mfn\u001b[0m\u001b[0;34m(\u001b[0m\u001b[0;34m*\u001b[0m\u001b[0margs\u001b[0m\u001b[0;34m,\u001b[0m \u001b[0;34m**\u001b[0m\u001b[0mkwargs\u001b[0m\u001b[0;34m)\u001b[0m\u001b[0;34m\u001b[0m\u001b[0;34m\u001b[0m\u001b[0m\n\u001b[0m\u001b[1;32m    151\u001b[0m     \u001b[0;32mexcept\u001b[0m \u001b[0mException\u001b[0m \u001b[0;32mas\u001b[0m \u001b[0me\u001b[0m\u001b[0;34m:\u001b[0m\u001b[0;34m\u001b[0m\u001b[0;34m\u001b[0m\u001b[0m\n\u001b[1;32m    152\u001b[0m       \u001b[0mfiltered_tb\u001b[0m \u001b[0;34m=\u001b[0m \u001b[0m_process_traceback_frames\u001b[0m\u001b[0;34m(\u001b[0m\u001b[0me\u001b[0m\u001b[0;34m.\u001b[0m\u001b[0m__traceback__\u001b[0m\u001b[0;34m)\u001b[0m\u001b[0;34m\u001b[0m\u001b[0;34m\u001b[0m\u001b[0m\n",
            "\u001b[0;32m/usr/local/lib/python3.11/dist-packages/tensorflow/python/eager/polymorphic_function/polymorphic_function.py\u001b[0m in \u001b[0;36m__call__\u001b[0;34m(self, *args, **kwds)\u001b[0m\n\u001b[1;32m    831\u001b[0m \u001b[0;34m\u001b[0m\u001b[0m\n\u001b[1;32m    832\u001b[0m       \u001b[0;32mwith\u001b[0m \u001b[0mOptionalXlaContext\u001b[0m\u001b[0;34m(\u001b[0m\u001b[0mself\u001b[0m\u001b[0;34m.\u001b[0m\u001b[0m_jit_compile\u001b[0m\u001b[0;34m)\u001b[0m\u001b[0;34m:\u001b[0m\u001b[0;34m\u001b[0m\u001b[0;34m\u001b[0m\u001b[0m\n\u001b[0;32m--> 833\u001b[0;31m         \u001b[0mresult\u001b[0m \u001b[0;34m=\u001b[0m \u001b[0mself\u001b[0m\u001b[0;34m.\u001b[0m\u001b[0m_call\u001b[0m\u001b[0;34m(\u001b[0m\u001b[0;34m*\u001b[0m\u001b[0margs\u001b[0m\u001b[0;34m,\u001b[0m \u001b[0;34m**\u001b[0m\u001b[0mkwds\u001b[0m\u001b[0;34m)\u001b[0m\u001b[0;34m\u001b[0m\u001b[0;34m\u001b[0m\u001b[0m\n\u001b[0m\u001b[1;32m    834\u001b[0m \u001b[0;34m\u001b[0m\u001b[0m\n\u001b[1;32m    835\u001b[0m       \u001b[0mnew_tracing_count\u001b[0m \u001b[0;34m=\u001b[0m \u001b[0mself\u001b[0m\u001b[0;34m.\u001b[0m\u001b[0mexperimental_get_tracing_count\u001b[0m\u001b[0;34m(\u001b[0m\u001b[0;34m)\u001b[0m\u001b[0;34m\u001b[0m\u001b[0;34m\u001b[0m\u001b[0m\n",
            "\u001b[0;32m/usr/local/lib/python3.11/dist-packages/tensorflow/python/eager/polymorphic_function/polymorphic_function.py\u001b[0m in \u001b[0;36m_call\u001b[0;34m(self, *args, **kwds)\u001b[0m\n\u001b[1;32m    876\u001b[0m       \u001b[0;31m# In this case we have not created variables on the first call. So we can\u001b[0m\u001b[0;34m\u001b[0m\u001b[0;34m\u001b[0m\u001b[0m\n\u001b[1;32m    877\u001b[0m       \u001b[0;31m# run the first trace but we should fail if variables are created.\u001b[0m\u001b[0;34m\u001b[0m\u001b[0;34m\u001b[0m\u001b[0m\n\u001b[0;32m--> 878\u001b[0;31m       results = tracing_compilation.call_function(\n\u001b[0m\u001b[1;32m    879\u001b[0m           \u001b[0margs\u001b[0m\u001b[0;34m,\u001b[0m \u001b[0mkwds\u001b[0m\u001b[0;34m,\u001b[0m \u001b[0mself\u001b[0m\u001b[0;34m.\u001b[0m\u001b[0m_variable_creation_config\u001b[0m\u001b[0;34m\u001b[0m\u001b[0;34m\u001b[0m\u001b[0m\n\u001b[1;32m    880\u001b[0m       )\n",
            "\u001b[0;32m/usr/local/lib/python3.11/dist-packages/tensorflow/python/eager/polymorphic_function/tracing_compilation.py\u001b[0m in \u001b[0;36mcall_function\u001b[0;34m(args, kwargs, tracing_options)\u001b[0m\n\u001b[1;32m    137\u001b[0m   \u001b[0mbound_args\u001b[0m \u001b[0;34m=\u001b[0m \u001b[0mfunction\u001b[0m\u001b[0;34m.\u001b[0m\u001b[0mfunction_type\u001b[0m\u001b[0;34m.\u001b[0m\u001b[0mbind\u001b[0m\u001b[0;34m(\u001b[0m\u001b[0;34m*\u001b[0m\u001b[0margs\u001b[0m\u001b[0;34m,\u001b[0m \u001b[0;34m**\u001b[0m\u001b[0mkwargs\u001b[0m\u001b[0;34m)\u001b[0m\u001b[0;34m\u001b[0m\u001b[0;34m\u001b[0m\u001b[0m\n\u001b[1;32m    138\u001b[0m   \u001b[0mflat_inputs\u001b[0m \u001b[0;34m=\u001b[0m \u001b[0mfunction\u001b[0m\u001b[0;34m.\u001b[0m\u001b[0mfunction_type\u001b[0m\u001b[0;34m.\u001b[0m\u001b[0munpack_inputs\u001b[0m\u001b[0;34m(\u001b[0m\u001b[0mbound_args\u001b[0m\u001b[0;34m)\u001b[0m\u001b[0;34m\u001b[0m\u001b[0;34m\u001b[0m\u001b[0m\n\u001b[0;32m--> 139\u001b[0;31m   return function._call_flat(  # pylint: disable=protected-access\n\u001b[0m\u001b[1;32m    140\u001b[0m       \u001b[0mflat_inputs\u001b[0m\u001b[0;34m,\u001b[0m \u001b[0mcaptured_inputs\u001b[0m\u001b[0;34m=\u001b[0m\u001b[0mfunction\u001b[0m\u001b[0;34m.\u001b[0m\u001b[0mcaptured_inputs\u001b[0m\u001b[0;34m\u001b[0m\u001b[0;34m\u001b[0m\u001b[0m\n\u001b[1;32m    141\u001b[0m   )\n",
            "\u001b[0;32m/usr/local/lib/python3.11/dist-packages/tensorflow/python/eager/polymorphic_function/concrete_function.py\u001b[0m in \u001b[0;36m_call_flat\u001b[0;34m(self, tensor_inputs, captured_inputs)\u001b[0m\n\u001b[1;32m   1320\u001b[0m         and executing_eagerly):\n\u001b[1;32m   1321\u001b[0m       \u001b[0;31m# No tape is watching; skip to running the function.\u001b[0m\u001b[0;34m\u001b[0m\u001b[0;34m\u001b[0m\u001b[0m\n\u001b[0;32m-> 1322\u001b[0;31m       \u001b[0;32mreturn\u001b[0m \u001b[0mself\u001b[0m\u001b[0;34m.\u001b[0m\u001b[0m_inference_function\u001b[0m\u001b[0;34m.\u001b[0m\u001b[0mcall_preflattened\u001b[0m\u001b[0;34m(\u001b[0m\u001b[0margs\u001b[0m\u001b[0;34m)\u001b[0m\u001b[0;34m\u001b[0m\u001b[0;34m\u001b[0m\u001b[0m\n\u001b[0m\u001b[1;32m   1323\u001b[0m     forward_backward = self._select_forward_and_backward_functions(\n\u001b[1;32m   1324\u001b[0m         \u001b[0margs\u001b[0m\u001b[0;34m,\u001b[0m\u001b[0;34m\u001b[0m\u001b[0;34m\u001b[0m\u001b[0m\n",
            "\u001b[0;32m/usr/local/lib/python3.11/dist-packages/tensorflow/python/eager/polymorphic_function/atomic_function.py\u001b[0m in \u001b[0;36mcall_preflattened\u001b[0;34m(self, args)\u001b[0m\n\u001b[1;32m    214\u001b[0m   \u001b[0;32mdef\u001b[0m \u001b[0mcall_preflattened\u001b[0m\u001b[0;34m(\u001b[0m\u001b[0mself\u001b[0m\u001b[0;34m,\u001b[0m \u001b[0margs\u001b[0m\u001b[0;34m:\u001b[0m \u001b[0mSequence\u001b[0m\u001b[0;34m[\u001b[0m\u001b[0mcore\u001b[0m\u001b[0;34m.\u001b[0m\u001b[0mTensor\u001b[0m\u001b[0;34m]\u001b[0m\u001b[0;34m)\u001b[0m \u001b[0;34m->\u001b[0m \u001b[0mAny\u001b[0m\u001b[0;34m:\u001b[0m\u001b[0;34m\u001b[0m\u001b[0;34m\u001b[0m\u001b[0m\n\u001b[1;32m    215\u001b[0m     \u001b[0;34m\"\"\"Calls with flattened tensor inputs and returns the structured output.\"\"\"\u001b[0m\u001b[0;34m\u001b[0m\u001b[0;34m\u001b[0m\u001b[0m\n\u001b[0;32m--> 216\u001b[0;31m     \u001b[0mflat_outputs\u001b[0m \u001b[0;34m=\u001b[0m \u001b[0mself\u001b[0m\u001b[0;34m.\u001b[0m\u001b[0mcall_flat\u001b[0m\u001b[0;34m(\u001b[0m\u001b[0;34m*\u001b[0m\u001b[0margs\u001b[0m\u001b[0;34m)\u001b[0m\u001b[0;34m\u001b[0m\u001b[0;34m\u001b[0m\u001b[0m\n\u001b[0m\u001b[1;32m    217\u001b[0m     \u001b[0;32mreturn\u001b[0m \u001b[0mself\u001b[0m\u001b[0;34m.\u001b[0m\u001b[0mfunction_type\u001b[0m\u001b[0;34m.\u001b[0m\u001b[0mpack_output\u001b[0m\u001b[0;34m(\u001b[0m\u001b[0mflat_outputs\u001b[0m\u001b[0;34m)\u001b[0m\u001b[0;34m\u001b[0m\u001b[0;34m\u001b[0m\u001b[0m\n\u001b[1;32m    218\u001b[0m \u001b[0;34m\u001b[0m\u001b[0m\n",
            "\u001b[0;32m/usr/local/lib/python3.11/dist-packages/tensorflow/python/eager/polymorphic_function/atomic_function.py\u001b[0m in \u001b[0;36mcall_flat\u001b[0;34m(self, *args)\u001b[0m\n\u001b[1;32m    249\u001b[0m         \u001b[0;32mwith\u001b[0m \u001b[0mrecord\u001b[0m\u001b[0;34m.\u001b[0m\u001b[0mstop_recording\u001b[0m\u001b[0;34m(\u001b[0m\u001b[0;34m)\u001b[0m\u001b[0;34m:\u001b[0m\u001b[0;34m\u001b[0m\u001b[0;34m\u001b[0m\u001b[0m\n\u001b[1;32m    250\u001b[0m           \u001b[0;32mif\u001b[0m \u001b[0mself\u001b[0m\u001b[0;34m.\u001b[0m\u001b[0m_bound_context\u001b[0m\u001b[0;34m.\u001b[0m\u001b[0mexecuting_eagerly\u001b[0m\u001b[0;34m(\u001b[0m\u001b[0;34m)\u001b[0m\u001b[0;34m:\u001b[0m\u001b[0;34m\u001b[0m\u001b[0;34m\u001b[0m\u001b[0m\n\u001b[0;32m--> 251\u001b[0;31m             outputs = self._bound_context.call_function(\n\u001b[0m\u001b[1;32m    252\u001b[0m                 \u001b[0mself\u001b[0m\u001b[0;34m.\u001b[0m\u001b[0mname\u001b[0m\u001b[0;34m,\u001b[0m\u001b[0;34m\u001b[0m\u001b[0;34m\u001b[0m\u001b[0m\n\u001b[1;32m    253\u001b[0m                 \u001b[0mlist\u001b[0m\u001b[0;34m(\u001b[0m\u001b[0margs\u001b[0m\u001b[0;34m)\u001b[0m\u001b[0;34m,\u001b[0m\u001b[0;34m\u001b[0m\u001b[0;34m\u001b[0m\u001b[0m\n",
            "\u001b[0;32m/usr/local/lib/python3.11/dist-packages/tensorflow/python/eager/context.py\u001b[0m in \u001b[0;36mcall_function\u001b[0;34m(self, name, tensor_inputs, num_outputs)\u001b[0m\n\u001b[1;32m   1681\u001b[0m     \u001b[0mcancellation_context\u001b[0m \u001b[0;34m=\u001b[0m \u001b[0mcancellation\u001b[0m\u001b[0;34m.\u001b[0m\u001b[0mcontext\u001b[0m\u001b[0;34m(\u001b[0m\u001b[0;34m)\u001b[0m\u001b[0;34m\u001b[0m\u001b[0;34m\u001b[0m\u001b[0m\n\u001b[1;32m   1682\u001b[0m     \u001b[0;32mif\u001b[0m \u001b[0mcancellation_context\u001b[0m \u001b[0;32mis\u001b[0m \u001b[0;32mNone\u001b[0m\u001b[0;34m:\u001b[0m\u001b[0;34m\u001b[0m\u001b[0;34m\u001b[0m\u001b[0m\n\u001b[0;32m-> 1683\u001b[0;31m       outputs = execute.execute(\n\u001b[0m\u001b[1;32m   1684\u001b[0m           \u001b[0mname\u001b[0m\u001b[0;34m.\u001b[0m\u001b[0mdecode\u001b[0m\u001b[0;34m(\u001b[0m\u001b[0;34m\"utf-8\"\u001b[0m\u001b[0;34m)\u001b[0m\u001b[0;34m,\u001b[0m\u001b[0;34m\u001b[0m\u001b[0;34m\u001b[0m\u001b[0m\n\u001b[1;32m   1685\u001b[0m           \u001b[0mnum_outputs\u001b[0m\u001b[0;34m=\u001b[0m\u001b[0mnum_outputs\u001b[0m\u001b[0;34m,\u001b[0m\u001b[0;34m\u001b[0m\u001b[0;34m\u001b[0m\u001b[0m\n",
            "\u001b[0;32m/usr/local/lib/python3.11/dist-packages/tensorflow/python/eager/execute.py\u001b[0m in \u001b[0;36mquick_execute\u001b[0;34m(op_name, num_outputs, inputs, attrs, ctx, name)\u001b[0m\n\u001b[1;32m     51\u001b[0m   \u001b[0;32mtry\u001b[0m\u001b[0;34m:\u001b[0m\u001b[0;34m\u001b[0m\u001b[0;34m\u001b[0m\u001b[0m\n\u001b[1;32m     52\u001b[0m     \u001b[0mctx\u001b[0m\u001b[0;34m.\u001b[0m\u001b[0mensure_initialized\u001b[0m\u001b[0;34m(\u001b[0m\u001b[0;34m)\u001b[0m\u001b[0;34m\u001b[0m\u001b[0;34m\u001b[0m\u001b[0m\n\u001b[0;32m---> 53\u001b[0;31m     tensors = pywrap_tfe.TFE_Py_Execute(ctx._handle, device_name, op_name,\n\u001b[0m\u001b[1;32m     54\u001b[0m                                         inputs, attrs, num_outputs)\n\u001b[1;32m     55\u001b[0m   \u001b[0;32mexcept\u001b[0m \u001b[0mcore\u001b[0m\u001b[0;34m.\u001b[0m\u001b[0m_NotOkStatusException\u001b[0m \u001b[0;32mas\u001b[0m \u001b[0me\u001b[0m\u001b[0;34m:\u001b[0m\u001b[0;34m\u001b[0m\u001b[0;34m\u001b[0m\u001b[0m\n",
            "\u001b[0;31mKeyboardInterrupt\u001b[0m: "
          ]
        }
      ],
      "source": [
        "\n",
        "# 6. Initial training (feature extraction)\n",
        "print(\"Starting initial training...\")\n",
        "model.fit(train_ds,\n",
        "          epochs=EPOCHS_INITIAL)"
      ]
    },
    {
      "cell_type": "code",
      "execution_count": null,
      "metadata": {
        "id": "uc5K_DbZ0iDQ"
      },
      "outputs": [],
      "source": [
        "# 7. Fine-tuning: unfreeze last layers of base model\n",
        "base_model.trainable = True\n",
        "\n",
        "# Recompile with lower learning rate\n",
        "model.compile(optimizer=tf.keras.optimizers.Adam(learning_rate=1e-5),\n",
        "              loss='categorical_crossentropy',\n",
        "              metrics=['accuracy'])\n",
        "\n",
        "print(\"Starting fine-tuning...\")\n",
        "model.fit(train_ds,\n",
        "          epochs=EPOCHS_FINE_TUNE)\n",
        "\n",
        "# 8. Save the trained model\n",
        "model.save(\"mobilenetv2_face_recognition.h5\")\n",
        "print(\"Model saved as mobilenetv2_face_recognition.h5\")\n"
      ]
    }
  ],
  "metadata": {
    "colab": {
      "provenance": []
    },
    "kernelspec": {
      "display_name": "Python 3",
      "name": "python3"
    },
    "language_info": {
      "name": "python"
    }
  },
  "nbformat": 4,
  "nbformat_minor": 0
}