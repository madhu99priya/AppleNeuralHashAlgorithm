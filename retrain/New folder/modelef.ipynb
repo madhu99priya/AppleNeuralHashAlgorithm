{
 "cells": [
  {
   "cell_type": "code",
   "execution_count": 1,
   "id": "cf801536",
   "metadata": {},
   "outputs": [
    {
     "name": "stdout",
     "output_type": "stream",
     "text": [
      "TensorFlow version: 2.10.0\n",
      "GPUs detected:\n",
      " - PhysicalDevice(name='/physical_device:GPU:0', device_type='GPU')\n",
      "Default GPU Device: /device:GPU:0\n"
     ]
    }
   ],
   "source": [
    "import tensorflow as tf\n",
    "\n",
    "print(\"TensorFlow version:\", tf.__version__)\n",
    "\n",
    "# List all physical GPU devices detected by TensorFlow\n",
    "gpus = tf.config.list_physical_devices('GPU')\n",
    "if gpus:\n",
    "    print(\"GPUs detected:\")\n",
    "    for gpu in gpus:\n",
    "        print(f\" - {gpu}\")\n",
    "else:\n",
    "    print(\"No GPU detected by TensorFlow.\")\n",
    "\n",
    "# Alternative quick check for default GPU device name\n",
    "gpu_name = tf.test.gpu_device_name()\n",
    "if gpu_name:\n",
    "    print(\"Default GPU Device:\", gpu_name)\n",
    "else:\n",
    "    print(\"TensorFlow is not using a GPU.\")\n"
   ]
  },
  {
   "cell_type": "code",
   "execution_count": null,
   "id": "e01b679b",
   "metadata": {},
   "outputs": [],
   "source": []
  }
 ],
 "metadata": {
  "kernelspec": {
   "display_name": "tf_gpu_env",
   "language": "python",
   "name": "python3"
  },
  "language_info": {
   "codemirror_mode": {
    "name": "ipython",
    "version": 3
   },
   "file_extension": ".py",
   "mimetype": "text/x-python",
   "name": "python",
   "nbconvert_exporter": "python",
   "pygments_lexer": "ipython3",
   "version": "3.8.20"
  }
 },
 "nbformat": 4,
 "nbformat_minor": 5
}
